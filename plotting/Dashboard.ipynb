{
 "cells": [
  {
   "cell_type": "markdown",
   "metadata": {},
   "source": [
    "Make this notebook as wide as the browser window allows:"
   ]
  },
  {
   "cell_type": "code",
   "execution_count": 9,
   "metadata": {},
   "outputs": [
    {
     "data": {
      "text/html": [
       "<style>.container { width:100% !important; }</style>"
      ],
      "text/plain": [
       "<IPython.core.display.HTML object>"
      ]
     },
     "metadata": {},
     "output_type": "display_data"
    }
   ],
   "source": [
    "from IPython.core.display import display, HTML\n",
    "display(HTML(\"<style>.container { width:100% !important; }</style>\"))"
   ]
  },
  {
   "cell_type": "markdown",
   "metadata": {},
   "source": [
    "Imports:"
   ]
  },
  {
   "cell_type": "code",
   "execution_count": 13,
   "metadata": {},
   "outputs": [],
   "source": [
    "from data_manager import build_data_manager, DataManager\n",
    "from data_selector import DataSelector"
   ]
  },
  {
   "cell_type": "markdown",
   "metadata": {},
   "source": [
    "List all the files to load, then put them in the data manager"
   ]
  },
  {
   "cell_type": "code",
   "execution_count": 11,
   "metadata": {
    "scrolled": false
   },
   "outputs": [
    {
     "data": {
      "application/vnd.jupyter.widget-view+json": {
       "model_id": "e4f81be2babc46ddbe66b2969c10c656",
       "version_major": 2,
       "version_minor": 0
      },
      "text/plain": [
       "VBox(children=(SelectMultiple(description='Open Files:', layout=Layout(width='auto'), options=(('SPE10.mpk', '…"
      ]
     },
     "metadata": {},
     "output_type": "display_data"
    }
   ],
   "source": [
    "files = ['SPE10.mpk']\n",
    "dm = build_data_manager(files)\n",
    "selector = DataSelector(data_manager=dm)\n",
    "selector.view()"
   ]
  },
  {
   "cell_type": "code",
   "execution_count": 20,
   "metadata": {},
   "outputs": [
    {
     "data": {
      "application/vnd.jupyter.widget-view+json": {
       "model_id": "bb969bb9477c4101a83dba11b0ada091",
       "version_major": 2,
       "version_minor": 0
      },
      "text/plain": [
       "FigureWidget({\n",
       "    'data': [{'type': 'scatter',\n",
       "              'uid': 'b2a7f121-2134-4318-b5a0-e476a1113b7a',\n",
       " …"
      ]
     },
     "metadata": {},
     "output_type": "display_data"
    }
   ],
   "source": [
    "import plotly.graph_objects as go\n",
    "import traitlets as tts\n",
    "\n",
    "class DataPlotter(tts.HasTraits):\n",
    "    # an object that we view\n",
    "    data_manager = tts.Instance(DataManager).tag(sync=True)\n",
    "    \n",
    "    # a figure holding a graph\n",
    "    fig = tts.Instance(go.FigureWidget).tag(sync=True)\n",
    "    \n",
    "    # list of all traces we display\n",
    "    _traces = tts.List().tag(sync=True)\n",
    "    \n",
    "    def __init__(self, data_manager, *args, **kwargs):\n",
    "        super().__init__(*args, **kwargs)\n",
    "        \n",
    "        self.data_manager = data_manager\n",
    "        self.fig = go.FigureWidget()\n",
    "        \n",
    "        \n",
    "        for p in self.data_manager.file_paths():\n",
    "            dates = self.data_manager.get_dates(p)\n",
    "            trace = go.Scatter(x=dates)\n",
    "            self._traces.append(trace)\n",
    "            self.fig.add_trace(trace)\n",
    "            trace.visible=False\n",
    "    \n",
    "    def update_traces(self, kw_type, kw_loc, kw_name):\n",
    "        pass\n",
    "        \n",
    "\n",
    "plotter = DataPlotter(data_manager=dm)\n",
    "plotter.fig"
   ]
  },
  {
   "cell_type": "code",
   "execution_count": null,
   "metadata": {},
   "outputs": [],
   "source": [
    "def plot_data(self):\n",
    "    cur_type = self.type_selector.value\n",
    "    cur_loc = self.loc_selector.value\n",
    "    cur_kw = self.kw_selector.value\n",
    "\n",
    "    x_s = [self.data_manager.get_dates(path)\n",
    "           for path in self.file_selector.value]\n",
    "\n",
    "    y_s = [self.data_manager.get_data(path, cur_type, cur_loc, cur_kw)\n",
    "           for path in self.file_selector.value]\n",
    "\n",
    "    if len(self._lines) == 0:\n",
    "        for (x, y) in zip(x_s, y_s):\n",
    "            min_y, max_y = self._get_y_scale(y['values'])\n",
    "            line = plt.plot(convert_to_date(x), y['values'])\n",
    "            with line.hold_sync():\n",
    "                line.scales['y'].min = float(min_y)\n",
    "                line.scales['y'].max = float(max_y)\n",
    "            self._lines.append(line)\n",
    "    else:\n",
    "        for (line, x, y) in zip(self._lines, x_s, y_s):\n",
    "            min_y, max_y = self._get_y_scale(y['values'])\n",
    "            with line.hold_sync():\n",
    "                line.y = y['values']\n",
    "                line.scales['y'].min = float(min_y)\n",
    "                line.scales['y'].max = float(max_y)\n",
    "                    \n",
    "                    \n",
    "def _get_y_scale(self, values):\n",
    "        if np.all(values == values[0]):\n",
    "            if values[0] == 0.0:\n",
    "                return -1.0, 1.0\n",
    "            else:\n",
    "                return values[0] * 0.99, values[0] * 1.01\n",
    "        else:\n",
    "            return values.min(), values.max()     "
   ]
  },
  {
   "cell_type": "code",
   "execution_count": 17,
   "metadata": {},
   "outputs": [],
   "source": [
    "go.Scatter?"
   ]
  },
  {
   "cell_type": "code",
   "execution_count": null,
   "metadata": {},
   "outputs": [],
   "source": []
  }
 ],
 "metadata": {
  "kernelspec": {
   "display_name": "eclair",
   "language": "python",
   "name": "eclair"
  },
  "language_info": {
   "codemirror_mode": {
    "name": "ipython",
    "version": 3
   },
   "file_extension": ".py",
   "mimetype": "text/x-python",
   "name": "python",
   "nbconvert_exporter": "python",
   "pygments_lexer": "ipython3",
   "version": "3.8.2"
  }
 },
 "nbformat": 4,
 "nbformat_minor": 4
}
