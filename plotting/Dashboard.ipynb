{
 "cells": [
  {
   "cell_type": "markdown",
   "metadata": {},
   "source": [
    "Make this notebook as wide as the browser window allows:"
   ]
  },
  {
   "cell_type": "code",
   "execution_count": null,
   "metadata": {},
   "outputs": [],
   "source": [
    "from IPython.core.display import display, HTML\n",
    "display(HTML(\"<style>.container { width:100% !important; }</style>\"))"
   ]
  },
  {
   "cell_type": "markdown",
   "metadata": {},
   "source": [
    "Imports:"
   ]
  },
  {
   "cell_type": "code",
   "execution_count": null,
   "metadata": {},
   "outputs": [],
   "source": [
    "import numpy as np\n",
    "import plotly.graph_objects as go\n",
    "\n",
    "from data_manager import load_summary"
   ]
  },
  {
   "cell_type": "markdown",
   "metadata": {},
   "source": [
    "Load the files:"
   ]
  },
  {
   "cell_type": "code",
   "execution_count": null,
   "metadata": {
    "scrolled": false
   },
   "outputs": [],
   "source": [
    "s = load_summary('SPE10.mpk')"
   ]
  },
  {
   "cell_type": "code",
   "execution_count": null,
   "metadata": {},
   "outputs": [],
   "source": [
    "# X is always dates\n",
    "x1 = s.dates\n",
    "\n",
    "# Data that we read depends on what we want to plot\n",
    "kw = 'WOPR'\n",
    "well_name = 'P1'\n",
    "d1 = s.wells[(kw, well_name)]\n",
    "\n",
    "# Y are values of the data we read, type conversion is needed for Plotly\n",
    "y1 = d1.values.astype(np.float32)\n",
    "\n",
    "fig = go.FigureWidget(layout=go.Layout(\n",
    "        title=go.layout.Title(text=f\"SPE10 Model, {kw} @ {well_name}\"),\n",
    "        width=1500, height=900,\n",
    "        )\n",
    "      )\n",
    "fig.layout.legend = {\"orientation\": \"h\"}\n",
    "fig.layout.xaxis.title = \"Date\"\n",
    "fig.layout.yaxis.title = f\"{kw} [{d1.unit}]\"\n",
    "\n",
    "# Add all scatter plots that we want\n",
    "fig.add_scatter(x=x1, y=y1, showlegend=True, name='SPE10')\n",
    "fig.show()"
   ]
  },
  {
   "cell_type": "code",
   "execution_count": null,
   "metadata": {},
   "outputs": [],
   "source": []
  }
 ],
 "metadata": {
  "kernelspec": {
   "display_name": "eclair",
   "language": "python",
   "name": "eclair"
  },
  "language_info": {
   "codemirror_mode": {
    "name": "ipython",
    "version": 3
   },
   "file_extension": ".py",
   "mimetype": "text/x-python",
   "name": "python",
   "nbconvert_exporter": "python",
   "pygments_lexer": "ipython3",
   "version": "3.8.2"
  }
 },
 "nbformat": 4,
 "nbformat_minor": 4
}
