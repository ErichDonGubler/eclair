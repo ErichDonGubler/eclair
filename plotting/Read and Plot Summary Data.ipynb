{
 "cells": [
  {
   "cell_type": "markdown",
   "metadata": {},
   "source": [
    "Make this notebook as wide as the browser window allows:"
   ]
  },
  {
   "cell_type": "code",
   "execution_count": 82,
   "metadata": {},
   "outputs": [
    {
     "data": {
      "text/html": [
       "<style>.container { width:100% !important; }</style>"
      ],
      "text/plain": [
       "<IPython.core.display.HTML object>"
      ]
     },
     "metadata": {},
     "output_type": "display_data"
    }
   ],
   "source": [
    "from IPython.core.display import display, HTML\n",
    "display(HTML(\"<style>.container { width:100% !important; }</style>\"))"
   ]
  },
  {
   "cell_type": "markdown",
   "metadata": {},
   "source": [
    "Functions to read the MessagePack binary file:"
   ]
  },
  {
   "cell_type": "code",
   "execution_count": 71,
   "metadata": {},
   "outputs": [],
   "source": [
    "import msgpack\n",
    "import numpy as np\n",
    "\n",
    "def ext_hook(code, data):\n",
    "    \"\"\"Read code-2 data as float32 numpy arrays.\"\"\"\n",
    "    if code == 2:\n",
    "        return np.frombuffer(data, dtype=np.float32)\n",
    "    return ExtType(code, data)\n",
    "\n",
    "\n",
    "def load_summary(path):\n",
    "    \"\"\"Load summary data from a file.\"\"\"\n",
    "    with open(path, \"rb\") as fp:\n",
    "        raw_bytes = fp.read()\n",
    "\n",
    "    return msgpack.unpackb(\n",
    "        raw_bytes, strict_map_key=False, use_list=False, ext_hook=ext_hook\n",
    "    )"
   ]
  },
  {
   "cell_type": "markdown",
   "metadata": {},
   "source": [
    "Helper functions for querying summary data:"
   ]
  },
  {
   "cell_type": "code",
   "execution_count": 338,
   "metadata": {},
   "outputs": [],
   "source": [
    "import datetime\n",
    "\n",
    "def get_dates(summary):\n",
    "    \"\"\"Extract a list of dates from a summary.\"\"\"\n",
    "    time_data = summary[\"time\"]\n",
    "    if \"YEAR\" in time_data and \"MONTH\" in time_data and \"DAY\" in time_data:\n",
    "        # easy path first\n",
    "        return [\n",
    "            datetime.datetime(y, m, d)\n",
    "            for (y, m, d) in zip(\n",
    "                time_data[\"YEAR\"][\"values\"],\n",
    "                time_data[\"MONTH\"][\"values\"],\n",
    "                time_data[\"DAY\"][\"values\"],\n",
    "            )\n",
    "        ]\n",
    "    else:\n",
    "        # do all the work ourselves\n",
    "        start_date = datetime.datetime(*reversed(summary[\"start_date\"]))\n",
    "        return [\n",
    "            start_date + datetime.timedelta(seconds=int(d * 86400))\n",
    "            for d in time_data[\"TIME\"][\"values\"]\n",
    "        ]\n",
    "    \n",
    "def common_keys(summaries, union=False):\n",
    "    \"\"\"Recursively extract common keys from a list of summaries.\"\"\"\n",
    "    summaries = [s for s in summaries if isinstance(s, dict) and \"unit\" not in s]\n",
    "    if len(summaries) == 0:\n",
    "        return None\n",
    "\n",
    "    keys = set(summaries[0].keys())\n",
    "    for s in summaries[1:]:\n",
    "        if union:\n",
    "            keys &= s.keys()\n",
    "        else:\n",
    "            keys |= s.keys()\n",
    "    keys -= {'start_date', 'time'}\n",
    "\n",
    "    return {k: common_keys([s.get(k, None) for s in summaries]) for k in keys}"
   ]
  },
  {
   "cell_type": "markdown",
   "metadata": {},
   "source": [
    "Getting ready to plot:"
   ]
  },
  {
   "cell_type": "code",
   "execution_count": 89,
   "metadata": {},
   "outputs": [],
   "source": [
    "import matplotlib.pyplot as plt\n",
    "\n",
    "def plot_summary_keyword(summary, keys):\n",
    "    \"\"\"Plots data from a summary given a path of keys to extract it.\"\"\"\n",
    "    dates = get_dates(summary)\n",
    "    \n",
    "    for key in keys:\n",
    "        summary = summary[key]\n",
    "    values = summary['values']\n",
    "    \n",
    "    f, ax = plt.subplots(1, 1, figsize = (15, 10))\n",
    "    ax.plot(dates, values, 'o-', markevery=0.02);\n",
    "    ax.grid()\n",
    "    ax.set_xlabel(f'Date');\n",
    "    ax.set_ylabel(f'{keys[-1]} [{summary[\"unit\"]}]');\n",
    "\n",
    "    # adjust all font sizes in one sweeping motion\n",
    "    for item in ([ax.title, ax.xaxis.label, ax.yaxis.label] +\n",
    "                 ax.get_xticklabels() + ax.get_yticklabels()):\n",
    "        item.set_fontsize(18)"
   ]
  },
  {
   "cell_type": "markdown",
   "metadata": {},
   "source": [
    "This class will store all our summary data and selection widgets"
   ]
  },
  {
   "cell_type": "code",
   "execution_count": 357,
   "metadata": {},
   "outputs": [],
   "source": [
    "from ipyfilechooser import FileChooser\n",
    "import os\n",
    "import ipywidgets as wg\n",
    "\n",
    "# Jupyter widgets use traitlets\n",
    "import traitlets as tts\n",
    "\n",
    "# But Yan really likes traits\n",
    "from traits.api import (\n",
    "    Bool, cached_property, HasTraits, Dict, Instance, List, on_trait_change, Property, Tuple, Unicode)\n",
    "\n",
    "TYPE_TO_BUTTON_VALUE = {\n",
    "    \"perf\": \"Perf\",\n",
    "    \"field\": \"F\",\n",
    "    \"regions\": \"R\",\n",
    "    \"aquifers\": \"A\",\n",
    "    \"wells\": \"W\",\n",
    "    \"completions\": \"C\",\n",
    "    \"groups\": \"G\",\n",
    "    \"cells\": \"B\"\n",
    "}\n",
    "\n",
    "NEED_LOCATION = {\n",
    "    \"regions\",\n",
    "    \"aquifers\",\n",
    "    \"wells\",\n",
    "    \"completions\",\n",
    "    \"groups\",\n",
    "    \"cells\"\n",
    "}\n",
    "\n",
    "class DataView(tts.HasTraits):\n",
    "    # what we are viewing\n",
    "    data_manager = tts.Instance(DataManager, ())\n",
    "                \n",
    "    fc = tts.Instance(\n",
    "        FileChooser,\n",
    "        kw = dict(\n",
    "            use_dir_icons=True,\n",
    "            show_hidden=False,\n",
    "            title='<b>Select an .mpk file to open</b>')\n",
    "    )\n",
    "    \n",
    "    file_selector = tts.Instance(\n",
    "        wg.SelectMultiple,\n",
    "        kw = dict(\n",
    "            options=[],\n",
    "            value=[],\n",
    "            rows=5,\n",
    "            description='Loaded Files:',\n",
    "            disabled=False)\n",
    "    )\n",
    "    \n",
    "    type_selector = tts.Instance(\n",
    "        wg.ToggleButtons,\n",
    "        kw = dict(\n",
    "            options=[],\n",
    "            description='Type:',\n",
    "            disabled=True,\n",
    "            style={'button_width': '40px'})\n",
    "    )\n",
    "    \n",
    "    loc_selector = tts.Instance(\n",
    "        wg.Dropdown,\n",
    "        kw = dict(\n",
    "            options=[],\n",
    "            description='Location:',\n",
    "            disabled=True)\n",
    "    )\n",
    "    \n",
    "    kw_selector = tts.Instance(\n",
    "        wg.Dropdown,\n",
    "        kw = dict(\n",
    "            options=[],\n",
    "            description='Keyword:',\n",
    "            disabled=True)\n",
    "    )\n",
    "    \n",
    "    use_all_kws = tts.Instance(\n",
    "        wg.Checkbox,\n",
    "        kw = dict(\n",
    "        value=False,\n",
    "        description='List keywords from all files')\n",
    "    )\n",
    "    \n",
    "    def __init__(self, *args, **kwargs):\n",
    "        super().__init__(*args, **kwargs)\n",
    "        # _select is the Select button of the FileChooser class\n",
    "        self.fc._select.on_click(self._file_opened)\n",
    "        self.file_selector.observe(self._file_selected, names='value')\n",
    "        self.type_selector.observe(self._type_selected, names='value')\n",
    "    \n",
    "    # Event handlers\n",
    "    def _file_opened(self, change):\n",
    "        self.data_manager.add_summary(self.fc.selected)\n",
    "        self.file_selector.options = [\n",
    "            (os.path.basename(p), p) for p in self.data_manager.file_paths()\n",
    "        ]\n",
    "    \n",
    "    def _file_selected(self, change):\n",
    "        self.type_selector.disabled = False\n",
    "        self.data_manager.selected_paths = self.file_selector.value\n",
    "        self.type_selector.options = [\n",
    "            (TYPE_TO_BUTTON_VALUE[k], k) for k in self.data_manager.common_keys\n",
    "        ]\n",
    "        \n",
    "    def _type_selected(self, change):\n",
    "        if change['new'] in NEED_LOCATION:\n",
    "            pass\n",
    "        else:\n",
    "            pass\n",
    "\n",
    "\n",
    "class DataManager(HasTraits):\n",
    "    # Private fields\n",
    "    _summary_data = Dict()\n",
    "    _dates = Dict()\n",
    "    \n",
    "    all_keywords = Bool(False)\n",
    "    selected_paths = Tuple(Unicode)\n",
    "    \n",
    "    common_keys = Property(depends_on = ['_summary_data, add_keywords, selected_paths'])\n",
    "    \n",
    "    def add_summary(self, path):\n",
    "        if path is None: return\n",
    "        self._summary_data[path] = load_summary(path)\n",
    "        self._dates[path] =  get_dates(self._summary_data[path])\n",
    "        \n",
    "    def get_dates(self, path):\n",
    "        return self._dates[path]\n",
    "    \n",
    "    def file_paths(self):\n",
    "        return list(self._summary_data.keys())\n",
    "    \n",
    "    def unload_files(self, paths):\n",
    "        for p in paths:\n",
    "            del self._summary_data[p]\n",
    "            del self._dates[p]\n",
    "    \n",
    "    @cached_property\n",
    "    def _get_common_keys(self):\n",
    "        return common_keys([self._summary_data[p] for p in self.selected_paths], self.all_keywords)\n",
    "            \n",
    "view = DataView()"
   ]
  },
  {
   "cell_type": "code",
   "execution_count": 361,
   "metadata": {
    "scrolled": false
   },
   "outputs": [
    {
     "data": {
      "application/vnd.jupyter.widget-view+json": {
       "model_id": "73fa810ee559414abb1380d8895b8b6e",
       "version_major": 2,
       "version_minor": 0
      },
      "text/plain": [
       "VBox(children=(FileChooser(path='/Users/yzaretskiy/Development/rust/eclair/plotting', filename='', show_hidden…"
      ]
     },
     "metadata": {},
     "output_type": "display_data"
    }
   ],
   "source": [
    "data_selectors = ipywidgets.VBox([\n",
    "    view.fc,\n",
    "    view.file_selector,\n",
    "    view.use_all_kws,\n",
    "    view.type_selector, \n",
    "    view.loc_selector, \n",
    "    view.kw_selector],\n",
    "    layout=wg.Layout(width='500px'))\n",
    "\n",
    "display(data_selectors)"
   ]
  },
  {
   "cell_type": "code",
   "execution_count": null,
   "metadata": {},
   "outputs": [],
   "source": []
  }
 ],
 "metadata": {
  "kernelspec": {
   "display_name": "eclair",
   "language": "python",
   "name": "eclair"
  },
  "language_info": {
   "codemirror_mode": {
    "name": "ipython",
    "version": 3
   },
   "file_extension": ".py",
   "mimetype": "text/x-python",
   "name": "python",
   "nbconvert_exporter": "python",
   "pygments_lexer": "ipython3",
   "version": "3.7.6"
  }
 },
 "nbformat": 4,
 "nbformat_minor": 4
}
