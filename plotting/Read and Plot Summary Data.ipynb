{
 "cells": [
  {
   "cell_type": "markdown",
   "metadata": {},
   "source": [
    "Make this notebook as wide as the browser window allows:"
   ]
  },
  {
   "cell_type": "code",
   "execution_count": 82,
   "metadata": {},
   "outputs": [
    {
     "data": {
      "text/html": [
       "<style>.container { width:100% !important; }</style>"
      ],
      "text/plain": [
       "<IPython.core.display.HTML object>"
      ]
     },
     "metadata": {},
     "output_type": "display_data"
    }
   ],
   "source": [
    "from IPython.core.display import display, HTML\n",
    "display(HTML(\"<style>.container { width:100% !important; }</style>\"))"
   ]
  },
  {
   "cell_type": "markdown",
   "metadata": {},
   "source": [
    "Functions to read the MessagePack binary file:"
   ]
  },
  {
   "cell_type": "code",
   "execution_count": 71,
   "metadata": {},
   "outputs": [],
   "source": [
    "import msgpack\n",
    "import numpy as np\n",
    "\n",
    "def ext_hook(code, data):\n",
    "    \"\"\"Read code-2 data as float32 numpy arrays.\"\"\"\n",
    "    if code == 2:\n",
    "        return np.frombuffer(data, dtype=np.float32)\n",
    "    return ExtType(code, data)\n",
    "\n",
    "\n",
    "def load_summary(path):\n",
    "    \"\"\"Load summary data from a file.\"\"\"\n",
    "    with open(path, \"rb\") as fp:\n",
    "        raw_bytes = fp.read()\n",
    "\n",
    "    return msgpack.unpackb(\n",
    "        raw_bytes, strict_map_key=False, use_list=False, ext_hook=ext_hook\n",
    "    )"
   ]
  },
  {
   "cell_type": "markdown",
   "metadata": {},
   "source": [
    "Helper functions for querying summary data:"
   ]
  },
  {
   "cell_type": "code",
   "execution_count": 77,
   "metadata": {},
   "outputs": [],
   "source": [
    "import datetime\n",
    "\n",
    "def get_dates(summary):\n",
    "    \"\"\"Extract a list of dates from a summary.\"\"\"\n",
    "    time_data = summary[\"time\"]\n",
    "    if \"YEAR\" in time_data and \"MONTH\" in time_data and \"DAY\" in time_data:\n",
    "        # easy path first\n",
    "        return [\n",
    "            datetime.datetime(y, m, d)\n",
    "            for (y, m, d) in zip(\n",
    "                time_data[\"YEAR\"][\"values\"],\n",
    "                time_data[\"MONTH\"][\"values\"],\n",
    "                time_data[\"DAY\"][\"values\"],\n",
    "            )\n",
    "        ]\n",
    "    else:\n",
    "        # do all the work ourselves\n",
    "        start_date = datetime.datetime(*reversed(summary[\"start_date\"]))\n",
    "        return [\n",
    "            start_date + datetime.timedelta(seconds=int(d * 86400))\n",
    "            for d in time_data[\"TIME\"][\"values\"]\n",
    "        ]\n",
    "    \n",
    "def common_keys(summaries):\n",
    "    \"\"\"Recursively extract common keys from a list of summaries.\"\"\"\n",
    "    if any(not isinstance(s, dict) for s in summaries) or \"unit\" in summaries[0]:\n",
    "        return None\n",
    "\n",
    "    keys = set(summaries[0].keys())\n",
    "    for s in summaries[1:]:\n",
    "        keys &= s.keys()\n",
    "\n",
    "    return {k: common_keys([d[k] for s in summaries]) for k in keys}"
   ]
  },
  {
   "cell_type": "markdown",
   "metadata": {},
   "source": [
    "Getting ready to plot:"
   ]
  },
  {
   "cell_type": "code",
   "execution_count": 89,
   "metadata": {},
   "outputs": [],
   "source": [
    "import matplotlib.pyplot as plt\n",
    "\n",
    "def plot_summary_keyword(summary, keys):\n",
    "    \"\"\"Plots data from a summary given a path of keys to extract it.\"\"\"\n",
    "    dates = get_dates(summary)\n",
    "    \n",
    "    for key in keys:\n",
    "        summary = summary[key]\n",
    "    values = summary['values']\n",
    "    \n",
    "    f, ax = plt.subplots(1, 1, figsize = (15, 10))\n",
    "    ax.plot(dates, values, 'o-', markevery=0.02);\n",
    "    ax.grid()\n",
    "    ax.set_xlabel(f'Date');\n",
    "    ax.set_ylabel(f'{keys[-1]} [{summary[\"unit\"]}]');\n",
    "\n",
    "    # adjust all font sizes in one sweeping motion\n",
    "    for item in ([ax.title, ax.xaxis.label, ax.yaxis.label] +\n",
    "                 ax.get_xticklabels() + ax.get_yticklabels()):\n",
    "        item.set_fontsize(18)"
   ]
  },
  {
   "cell_type": "markdown",
   "metadata": {},
   "source": [
    "This class will store all our summary data and selection widgets"
   ]
  },
  {
   "cell_type": "code",
   "execution_count": 118,
   "metadata": {},
   "outputs": [],
   "source": [
    "import ipywidgets\n",
    "from traitlets import HasTraits, Dict, Instance\n",
    "\n",
    "class DataManager(HasTraits):\n",
    "    loaded_summary_data = Dict()\n",
    "    \n",
    "    type_selector = Instance(ipywidgets.ToggleButtons)\n",
    "    loc_selector = Instance(ipywidgets.Select)\n",
    "    kw_selector = Instance(ipywidgets.Select)\n",
    "\n",
    "    def add_summary(self, path):\n",
    "        self.loaded_summary_data[path] = load_summary(path)\n",
    "    \n",
    "    def common_keys(self, names):\n",
    "        return common_keys([self.loaded_summary_data[n] for n in names])\n",
    "    \n",
    "    def get_dates(self, name):\n",
    "        summary = self.loaded_summary_data[name]\n",
    "        return get_dates(summary)\n",
    "    \n",
    "    def unload_files(self, paths):\n",
    "        for p in paths:\n",
    "            del self.loaded_summary_data[p]\n",
    "\n",
    "dm = DataManager()"
   ]
  },
  {
   "cell_type": "code",
   "execution_count": 94,
   "metadata": {
    "scrolled": false
   },
   "outputs": [
    {
     "data": {
      "application/vnd.jupyter.widget-view+json": {
       "model_id": "61e8ef54ef3540ad8cb3216eb4a62db7",
       "version_major": 2,
       "version_minor": 0
      },
      "text/plain": [
       "FileChooser(path='.', filename='', show_hidden='False')"
      ]
     },
     "metadata": {},
     "output_type": "display_data"
    }
   ],
   "source": [
    "from ipyfilechooser import FileChooser\n",
    "\n",
    "fc = FileChooser('.', use_dir_icons=True)\n",
    "fc.title = '<b>Select an .mpk file to open</b>'    \n",
    "fc.register_callback(lambda w: dm.add_summary(w.selected))\n",
    "\n",
    "display(fc)"
   ]
  },
  {
   "cell_type": "code",
   "execution_count": 107,
   "metadata": {},
   "outputs": [],
   "source": [
    "tb = widgets.ToggleButtons(\n",
    "    options=[],\n",
    "    description='Type:',\n",
    "    disabled=False,\n",
    "    button_style='',\n",
    ")"
   ]
  },
  {
   "cell_type": "code",
   "execution_count": 108,
   "metadata": {},
   "outputs": [
    {
     "data": {
      "application/vnd.jupyter.widget-view+json": {
       "model_id": "7e9eb5543e174dc388fb6d0a792dfd06",
       "version_major": 2,
       "version_minor": 0
      },
      "text/plain": [
       "ToggleButtons(description='Type:', options=(), value=None)"
      ]
     },
     "metadata": {},
     "output_type": "display_data"
    }
   ],
   "source": [
    "display(tb)"
   ]
  },
  {
   "cell_type": "code",
   "execution_count": 110,
   "metadata": {},
   "outputs": [],
   "source": [
    "tb.options=['kaka', 'puka']"
   ]
  },
  {
   "cell_type": "code",
   "execution_count": null,
   "metadata": {},
   "outputs": [],
   "source": []
  }
 ],
 "metadata": {
  "kernelspec": {
   "display_name": "eclair",
   "language": "python",
   "name": "eclair"
  },
  "language_info": {
   "codemirror_mode": {
    "name": "ipython",
    "version": 3
   },
   "file_extension": ".py",
   "mimetype": "text/x-python",
   "name": "python",
   "nbconvert_exporter": "python",
   "pygments_lexer": "ipython3",
   "version": "3.7.6"
  }
 },
 "nbformat": 4,
 "nbformat_minor": 4
}
